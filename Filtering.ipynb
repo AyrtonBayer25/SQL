{
 "cells": [
  {
   "cell_type": "code",
   "execution_count": 1,
   "metadata": {},
   "outputs": [],
   "source": [
    "from sqlalchemy import create_engine\n",
    "\n",
    "from sqlalchemy.ext.declarative import declarative_base\n",
    "Base = declarative_base()\n",
    "from sqlalchemy import Column, Integer, String, Float\n",
    "\n",
    "from sqlalchemy import create_engine"
   ]
  },
  {
   "cell_type": "code",
   "execution_count": 2,
   "metadata": {},
   "outputs": [],
   "source": [
    "from sqlalchemy import create_engine\n",
    "database_path = \"../Resources/sharks.sqlite\"\n",
    "engine = create_engine(f\"sqlite:///{database_path}\")\n",
    "Base.metadata.create_all(engine)"
   ]
  },
  {
   "cell_type": "code",
   "execution_count": 3,
   "metadata": {},
   "outputs": [],
   "source": [
    "from sqlalchemy.orm import Session\n",
    "session = Session(bind=engine)"
   ]
  },
  {
   "cell_type": "code",
   "execution_count": 4,
   "metadata": {
    "deletable": false,
    "nbgrader": {
     "checksum": "272368b77cc71254fcd63d37c986090e",
     "grade": false,
     "grade_id": "cell-c57d66be4b87f3dc",
     "locked": false,
     "schema_version": 1,
     "solution": true
    }
   },
   "outputs": [],
   "source": [
    "# create your shark class\n",
    "class Sharks(Base):\n",
    "    __tablename__ = 'sharks'\n",
    "    id = Column(Integer, primary_key=True)\n",
    "    case_number = Column(String)\n",
    "    date = Column(String)\n",
    "    year = Column(Integer)\n",
    "    type = Column(String)\n",
    "    country = Column(String)\n",
    "    area = Column(String)\n",
    "    location= Column(String)\n",
    "    activity = Column(String)\n",
    "    name = Column(String)\n",
    "    sex = Column(String)\n",
    "    age = Column(Integer)\n",
    "    injury = Column(String)\n",
    "    fatal_y_n = Column(String)\n",
    "    time = Column(String)\n",
    "    species = Column(String)\n",
    "    investigator_or_source = Column(String)\n",
    "    pdf = Column(String)\n",
    "    original_order = Column(Integer)"
   ]
  },
  {
   "cell_type": "code",
   "execution_count": 5,
   "metadata": {
    "deletable": false,
    "nbgrader": {
     "checksum": "827e8537e30fd84c706b14b2040fccf2",
     "grade": false,
     "grade_id": "cell-48e2a351e977f8b6",
     "locked": false,
     "schema_version": 1,
     "solution": true
    }
   },
   "outputs": [
    {
     "name": "stdout",
     "output_type": "stream",
     "text": [
      "Point Casuarina, Bunbury\n",
      "Bateman's Bay\n",
      "Ponce Inlet, Volusia County\n",
      "Pulau Payar Island\n",
      "Alenuihaha Channel\n",
      "The Natural Jetty, Rottnest Island\n",
      "Near Albany\n",
      "Bourail\n",
      "Off Cape Point\n",
      "Taranaki\n",
      "Avalon\n",
      "Honokowai, Maui\n"
     ]
    }
   ],
   "source": [
    "# print all locations of shark attacks\n",
    "attacks = session.query(Sharks)\n",
    "for attack in attacks:\n",
    "    print(attack.location)"
   ]
  },
  {
   "cell_type": "code",
   "execution_count": 6,
   "metadata": {
    "deletable": false,
    "nbgrader": {
     "checksum": "5da00f78964b8a2627e7955872b79cf2",
     "grade": false,
     "grade_id": "cell-33b12ba730e08a42",
     "locked": false,
     "schema_version": 1,
     "solution": true
    }
   },
   "outputs": [
    {
     "name": "stdout",
     "output_type": "stream",
     "text": [
      "12\n"
     ]
    }
   ],
   "source": [
    "# find the number of provoked attacks\n",
    "provoked = session.query(Sharks).filter_by(type='Provoked').count()\n",
    "print(provoked)"
   ]
  },
  {
   "cell_type": "code",
   "execution_count": 19,
   "metadata": {},
   "outputs": [
    {
     "name": "stdout",
     "output_type": "stream",
     "text": [
      "2017 29\n",
      "2009 21\n",
      "2009 40\n"
     ]
    }
   ],
   "source": [
    "provoked = session.query(Sharks).filter_by(type='Provoked').limit(4)\n",
    "for abc in provoked:\n",
    "    print(abc.year, abc.age)"
   ]
  },
  {
   "cell_type": "code",
   "execution_count": 7,
   "metadata": {
    "deletable": false,
    "nbgrader": {
     "checksum": "625cca75f2e3869d61a4d1bb6aaa862d",
     "grade": false,
     "grade_id": "cell-4b1293d38480400d",
     "locked": false,
     "schema_version": 1,
     "solution": true
    }
   },
   "outputs": [
    {
     "name": "stdout",
     "output_type": "stream",
     "text": [
      "28\n"
     ]
    }
   ],
   "source": [
    "# find the number of attacks in USA\n",
    "usa = session.query(Sharks).filter_by(country='USA').count()\n",
    "print(usa)"
   ]
  },
  {
   "cell_type": "code",
   "execution_count": 8,
   "metadata": {
    "deletable": false,
    "nbgrader": {
     "checksum": "5c44b8a34de6f5090552b1efa1c4d58e",
     "grade": false,
     "grade_id": "cell-5431c1fabaae9ed8",
     "locked": false,
     "schema_version": 1,
     "solution": true
    }
   },
   "outputs": [],
   "source": [
    "# find the number of attacks in 2017\n",
    "year_2017 = session.query(Sharks).filter_by(year=\"2017\").count()"
   ]
  },
  {
   "cell_type": "code",
   "execution_count": 9,
   "metadata": {
    "deletable": false,
    "nbgrader": {
     "checksum": "6fb8eae592cf139c082c6f77d42e00aa",
     "grade": false,
     "grade_id": "cell-4de2402e47fe0214",
     "locked": false,
     "schema_version": 1,
     "solution": true
    }
   },
   "outputs": [
    {
     "name": "stdout",
     "output_type": "stream",
     "text": [
      "34\n"
     ]
    }
   ],
   "source": [
    "# find the number of attacks while surfing\n",
    "surfing = session.query(Sharks).filter_by(activity=\"Surfing\").count()\n",
    "print(surfing)"
   ]
  },
  {
   "cell_type": "code",
   "execution_count": 17,
   "metadata": {
    "deletable": false,
    "nbgrader": {
     "checksum": "ac16e312f24b2a48fba9a384e600676f",
     "grade": false,
     "grade_id": "cell-9e2afa5b2f869a4f",
     "locked": false,
     "schema_version": 1,
     "solution": true
    }
   },
   "outputs": [
    {
     "name": "stdout",
     "output_type": "stream",
     "text": [
      "SELECT sharks.id AS sharks_id, sharks.case_number AS sharks_case_number, sharks.date AS sharks_date, sharks.year AS sharks_year, sharks.type AS sharks_type, sharks.country AS sharks_country, sharks.area AS sharks_area, sharks.location AS sharks_location, sharks.activity AS sharks_activity, sharks.name AS sharks_name, sharks.sex AS sharks_sex, sharks.age AS sharks_age, sharks.injury AS sharks_injury, sharks.fatal_y_n AS sharks_fatal_y_n, sharks.time AS sharks_time, sharks.species AS sharks_species, sharks.investigator_or_source AS sharks_investigator_or_source, sharks.pdf AS sharks_pdf, sharks.original_order AS sharks_original_order \n",
      "FROM sharks \n",
      "WHERE sharks.fatal_y_n = ?\n"
     ]
    }
   ],
   "source": [
    "# find the number of fatal attacks\n",
    "fatal = session.query(Sharks).filter(Sharks.fatal_y_n==\"Y\")\n",
    "print(fatal)"
   ]
  },
  {
   "cell_type": "code",
   "execution_count": 12,
   "metadata": {
    "deletable": false,
    "nbgrader": {
     "checksum": "099a489efed7a5379e3b22a0997c9465",
     "grade": false,
     "grade_id": "cell-75819f28900a2e54",
     "locked": false,
     "schema_version": 1,
     "solution": true
    }
   },
   "outputs": [
    {
     "ename": "SyntaxError",
     "evalue": "invalid syntax (<ipython-input-12-e94713a77061>, line 2)",
     "output_type": "error",
     "traceback": [
      "\u001b[1;36m  File \u001b[1;32m\"<ipython-input-12-e94713a77061>\"\u001b[1;36m, line \u001b[1;32m2\u001b[0m\n\u001b[1;33m    surfing_fatal = session.query(Sharks).filter_by(fatal_y_n=\"Yes\").count AND\u001b[0m\n\u001b[1;37m                                                                             ^\u001b[0m\n\u001b[1;31mSyntaxError\u001b[0m\u001b[1;31m:\u001b[0m invalid syntax\n"
     ]
    }
   ],
   "source": [
    "# find the number of fatal attacks while surfing\n",
    "surfing_fatal = session.query(Sharks).filter_by(fatal_y_n=\"Yes\").count AND \n",
    "session.query(Sharks).filter_by(activity=\"Surfing\").count\n",
    "print(surfing_fatal)"
   ]
  },
  {
   "cell_type": "code",
   "execution_count": null,
   "metadata": {
    "deletable": false,
    "nbgrader": {
     "checksum": "7e93397023f1706df0f8bec0a433137b",
     "grade": false,
     "grade_id": "cell-ef68003cff255319",
     "locked": false,
     "schema_version": 1,
     "solution": true
    }
   },
   "outputs": [],
   "source": [
    "# find the number of fatal attacks in 2017 in Australia\n",
    "# YOUR CODE HERE"
   ]
  }
 ],
 "metadata": {
  "kernelspec": {
   "display_name": "Python 3",
   "language": "python",
   "name": "python3"
  },
  "language_info": {
   "codemirror_mode": {
    "name": "ipython",
    "version": 3
   },
   "file_extension": ".py",
   "mimetype": "text/x-python",
   "name": "python",
   "nbconvert_exporter": "python",
   "pygments_lexer": "ipython3",
   "version": "3.7.3"
  },
  "varInspector": {
   "cols": {
    "lenName": 16,
    "lenType": 16,
    "lenVar": 40
   },
   "kernels_config": {
    "python": {
     "delete_cmd_postfix": "",
     "delete_cmd_prefix": "del ",
     "library": "var_list.py",
     "varRefreshCmd": "print(var_dic_list())"
    },
    "r": {
     "delete_cmd_postfix": ") ",
     "delete_cmd_prefix": "rm(",
     "library": "var_list.r",
     "varRefreshCmd": "cat(var_dic_list()) "
    }
   },
   "types_to_exclude": [
    "module",
    "function",
    "builtin_function_or_method",
    "instance",
    "_Feature"
   ],
   "window_display": false
  }
 },
 "nbformat": 4,
 "nbformat_minor": 2
}
